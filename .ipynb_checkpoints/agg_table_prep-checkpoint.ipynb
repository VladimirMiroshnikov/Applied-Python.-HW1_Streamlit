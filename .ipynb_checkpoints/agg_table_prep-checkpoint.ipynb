{
 "cells": [
  {
   "cell_type": "code",
   "execution_count": 70,
   "id": "0f02cf5b-4104-4666-911c-d24f63e576e1",
   "metadata": {},
   "outputs": [],
   "source": [
    "import pandas as pd\n",
    "from pathlib import Path\n",
    "import duckdb\n",
    "import pickle\n",
    "\n",
    "import matplotlib\n",
    "from matplotlib import pyplot as plt\n",
    "#%matplotlib inline\n",
    "\n",
    "import seaborn as sns"
   ]
  },
  {
   "cell_type": "code",
   "execution_count": 47,
   "id": "200f1816-f78f-48c4-bb53-c8cd49d80651",
   "metadata": {},
   "outputs": [],
   "source": [
    "data_dir=Path('/Users/vladimirmirosnikov/PycharmProjects/streamlit_HW/data')"
   ]
  },
  {
   "cell_type": "code",
   "execution_count": 48,
   "id": "998cb409-a257-4a4a-8935-3c9ecdfcdd2c",
   "metadata": {},
   "outputs": [],
   "source": [
    "d_frames=dict(zip([f.name[:-4] for f in data_dir.glob(\"*.csv\")], [pd.read_csv(f) for f in data_dir.glob(\"*.csv\")]))"
   ]
  },
  {
   "cell_type": "code",
   "execution_count": 45,
   "id": "cd82f619-9ccc-4bd4-8067-cb54e3c3bf36",
   "metadata": {},
   "outputs": [
    {
     "data": {
      "text/html": [
       "<div>\n",
       "<style scoped>\n",
       "    .dataframe tbody tr th:only-of-type {\n",
       "        vertical-align: middle;\n",
       "    }\n",
       "\n",
       "    .dataframe tbody tr th {\n",
       "        vertical-align: top;\n",
       "    }\n",
       "\n",
       "    .dataframe thead th {\n",
       "        text-align: right;\n",
       "    }\n",
       "</style>\n",
       "<table border=\"1\" class=\"dataframe\">\n",
       "  <thead>\n",
       "    <tr style=\"text-align: right;\">\n",
       "      <th></th>\n",
       "      <th>ID_LOAN</th>\n",
       "      <th>ID_CLIENT</th>\n",
       "    </tr>\n",
       "  </thead>\n",
       "  <tbody>\n",
       "    <tr>\n",
       "      <th>0</th>\n",
       "      <td>1753790658</td>\n",
       "      <td>106804370</td>\n",
       "    </tr>\n",
       "    <tr>\n",
       "      <th>1</th>\n",
       "      <td>1753790659</td>\n",
       "      <td>106804371</td>\n",
       "    </tr>\n",
       "    <tr>\n",
       "      <th>2</th>\n",
       "      <td>1753790660</td>\n",
       "      <td>106804372</td>\n",
       "    </tr>\n",
       "  </tbody>\n",
       "</table>\n",
       "</div>"
      ],
      "text/plain": [
       "      ID_LOAN  ID_CLIENT\n",
       "0  1753790658  106804370\n",
       "1  1753790659  106804371\n",
       "2  1753790660  106804372"
      ]
     },
     "execution_count": 45,
     "metadata": {},
     "output_type": "execute_result"
    }
   ],
   "source": [
    "d_frames['D_loan'].head(3)"
   ]
  },
  {
   "cell_type": "code",
   "execution_count": 46,
   "id": "7382953b-9689-4e67-bd21-ca36dd82f7f9",
   "metadata": {},
   "outputs": [
    {
     "data": {
      "text/html": [
       "<div>\n",
       "<style scoped>\n",
       "    .dataframe tbody tr th:only-of-type {\n",
       "        vertical-align: middle;\n",
       "    }\n",
       "\n",
       "    .dataframe tbody tr th {\n",
       "        vertical-align: top;\n",
       "    }\n",
       "\n",
       "    .dataframe thead th {\n",
       "        text-align: right;\n",
       "    }\n",
       "</style>\n",
       "<table border=\"1\" class=\"dataframe\">\n",
       "  <thead>\n",
       "    <tr style=\"text-align: right;\">\n",
       "      <th></th>\n",
       "      <th>ID</th>\n",
       "      <th>AGE</th>\n",
       "      <th>GENDER</th>\n",
       "      <th>EDUCATION</th>\n",
       "      <th>MARITAL_STATUS</th>\n",
       "      <th>CHILD_TOTAL</th>\n",
       "      <th>DEPENDANTS</th>\n",
       "      <th>SOCSTATUS_WORK_FL</th>\n",
       "      <th>SOCSTATUS_PENS_FL</th>\n",
       "      <th>REG_ADDRESS_PROVINCE</th>\n",
       "      <th>FACT_ADDRESS_PROVINCE</th>\n",
       "      <th>POSTAL_ADDRESS_PROVINCE</th>\n",
       "      <th>FL_PRESENCE_FL</th>\n",
       "      <th>OWN_AUTO</th>\n",
       "    </tr>\n",
       "  </thead>\n",
       "  <tbody>\n",
       "    <tr>\n",
       "      <th>0</th>\n",
       "      <td>106805103</td>\n",
       "      <td>42</td>\n",
       "      <td>1</td>\n",
       "      <td>Среднее</td>\n",
       "      <td>Не состоял в браке</td>\n",
       "      <td>1</td>\n",
       "      <td>0</td>\n",
       "      <td>1</td>\n",
       "      <td>0</td>\n",
       "      <td>Московская область</td>\n",
       "      <td>Московская область</td>\n",
       "      <td>Московская область</td>\n",
       "      <td>1</td>\n",
       "      <td>0</td>\n",
       "    </tr>\n",
       "    <tr>\n",
       "      <th>1</th>\n",
       "      <td>106809308</td>\n",
       "      <td>28</td>\n",
       "      <td>1</td>\n",
       "      <td>Среднее специальное</td>\n",
       "      <td>Состою в браке</td>\n",
       "      <td>1</td>\n",
       "      <td>1</td>\n",
       "      <td>1</td>\n",
       "      <td>0</td>\n",
       "      <td>Читинская область</td>\n",
       "      <td>Читинская область</td>\n",
       "      <td>Читинская область</td>\n",
       "      <td>0</td>\n",
       "      <td>0</td>\n",
       "    </tr>\n",
       "    <tr>\n",
       "      <th>2</th>\n",
       "      <td>106805867</td>\n",
       "      <td>64</td>\n",
       "      <td>0</td>\n",
       "      <td>Среднее специальное</td>\n",
       "      <td>Состою в браке</td>\n",
       "      <td>2</td>\n",
       "      <td>0</td>\n",
       "      <td>1</td>\n",
       "      <td>1</td>\n",
       "      <td>Иркутская область</td>\n",
       "      <td>Иркутская область</td>\n",
       "      <td>Иркутская область</td>\n",
       "      <td>0</td>\n",
       "      <td>1</td>\n",
       "    </tr>\n",
       "  </tbody>\n",
       "</table>\n",
       "</div>"
      ],
      "text/plain": [
       "          ID  AGE  GENDER            EDUCATION      MARITAL_STATUS  \\\n",
       "0  106805103   42       1              Среднее  Не состоял в браке   \n",
       "1  106809308   28       1  Среднее специальное      Состою в браке   \n",
       "2  106805867   64       0  Среднее специальное      Состою в браке   \n",
       "\n",
       "   CHILD_TOTAL  DEPENDANTS  SOCSTATUS_WORK_FL  SOCSTATUS_PENS_FL  \\\n",
       "0            1           0                  1                  0   \n",
       "1            1           1                  1                  0   \n",
       "2            2           0                  1                  1   \n",
       "\n",
       "  REG_ADDRESS_PROVINCE FACT_ADDRESS_PROVINCE POSTAL_ADDRESS_PROVINCE  \\\n",
       "0   Московская область    Московская область      Московская область   \n",
       "1    Читинская область     Читинская область       Читинская область   \n",
       "2    Иркутская область     Иркутская область       Иркутская область   \n",
       "\n",
       "   FL_PRESENCE_FL  OWN_AUTO  \n",
       "0               1         0  \n",
       "1               0         0  \n",
       "2               0         1  "
      ]
     },
     "execution_count": 46,
     "metadata": {},
     "output_type": "execute_result"
    }
   ],
   "source": [
    "d_frames['D_clients'].head(3)"
   ]
  },
  {
   "cell_type": "code",
   "execution_count": 47,
   "id": "ab312b0c-0077-4f95-b292-f2331bcd8ce4",
   "metadata": {},
   "outputs": [
    {
     "data": {
      "text/html": [
       "<div>\n",
       "<style scoped>\n",
       "    .dataframe tbody tr th:only-of-type {\n",
       "        vertical-align: middle;\n",
       "    }\n",
       "\n",
       "    .dataframe tbody tr th {\n",
       "        vertical-align: top;\n",
       "    }\n",
       "\n",
       "    .dataframe thead th {\n",
       "        text-align: right;\n",
       "    }\n",
       "</style>\n",
       "<table border=\"1\" class=\"dataframe\">\n",
       "  <thead>\n",
       "    <tr style=\"text-align: right;\">\n",
       "      <th></th>\n",
       "      <th>CREDIT</th>\n",
       "      <th>TERM</th>\n",
       "      <th>FST_PAYMENT</th>\n",
       "      <th>ID_CLIENT</th>\n",
       "    </tr>\n",
       "  </thead>\n",
       "  <tbody>\n",
       "    <tr>\n",
       "      <th>0</th>\n",
       "      <td>8000.0</td>\n",
       "      <td>6</td>\n",
       "      <td>8650.0</td>\n",
       "      <td>106804370</td>\n",
       "    </tr>\n",
       "    <tr>\n",
       "      <th>1</th>\n",
       "      <td>21650.0</td>\n",
       "      <td>6</td>\n",
       "      <td>4000.0</td>\n",
       "      <td>106804371</td>\n",
       "    </tr>\n",
       "    <tr>\n",
       "      <th>2</th>\n",
       "      <td>33126.0</td>\n",
       "      <td>12</td>\n",
       "      <td>4000.0</td>\n",
       "      <td>106804372</td>\n",
       "    </tr>\n",
       "  </tbody>\n",
       "</table>\n",
       "</div>"
      ],
      "text/plain": [
       "    CREDIT  TERM  FST_PAYMENT  ID_CLIENT\n",
       "0   8000.0     6       8650.0  106804370\n",
       "1  21650.0     6       4000.0  106804371\n",
       "2  33126.0    12       4000.0  106804372"
      ]
     },
     "execution_count": 47,
     "metadata": {},
     "output_type": "execute_result"
    }
   ],
   "source": [
    "d_frames['D_last_credit'].head(3)"
   ]
  },
  {
   "cell_type": "code",
   "execution_count": 48,
   "id": "adbd1c27-8032-4317-9a25-121d67c32f5f",
   "metadata": {},
   "outputs": [
    {
     "data": {
      "text/html": [
       "<div>\n",
       "<style scoped>\n",
       "    .dataframe tbody tr th:only-of-type {\n",
       "        vertical-align: middle;\n",
       "    }\n",
       "\n",
       "    .dataframe tbody tr th {\n",
       "        vertical-align: top;\n",
       "    }\n",
       "\n",
       "    .dataframe thead th {\n",
       "        text-align: right;\n",
       "    }\n",
       "</style>\n",
       "<table border=\"1\" class=\"dataframe\">\n",
       "  <thead>\n",
       "    <tr style=\"text-align: right;\">\n",
       "      <th></th>\n",
       "      <th>ID</th>\n",
       "      <th>FLAG</th>\n",
       "      <th>COMMENT</th>\n",
       "    </tr>\n",
       "  </thead>\n",
       "  <tbody>\n",
       "    <tr>\n",
       "      <th>0</th>\n",
       "      <td>1</td>\n",
       "      <td>0</td>\n",
       "      <td>пенсионер</td>\n",
       "    </tr>\n",
       "    <tr>\n",
       "      <th>1</th>\n",
       "      <td>2</td>\n",
       "      <td>1</td>\n",
       "      <td>не пенсионер</td>\n",
       "    </tr>\n",
       "  </tbody>\n",
       "</table>\n",
       "</div>"
      ],
      "text/plain": [
       "   ID  FLAG       COMMENT\n",
       "0   1     0     пенсионер\n",
       "1   2     1  не пенсионер"
      ]
     },
     "execution_count": 48,
     "metadata": {},
     "output_type": "execute_result"
    }
   ],
   "source": [
    "d_frames['D_pens'].head(3)"
   ]
  },
  {
   "cell_type": "code",
   "execution_count": 49,
   "id": "73ab7357-2f71-4481-a393-f8c66530d40c",
   "metadata": {},
   "outputs": [
    {
     "data": {
      "text/html": [
       "<div>\n",
       "<style scoped>\n",
       "    .dataframe tbody tr th:only-of-type {\n",
       "        vertical-align: middle;\n",
       "    }\n",
       "\n",
       "    .dataframe tbody tr th {\n",
       "        vertical-align: top;\n",
       "    }\n",
       "\n",
       "    .dataframe thead th {\n",
       "        text-align: right;\n",
       "    }\n",
       "</style>\n",
       "<table border=\"1\" class=\"dataframe\">\n",
       "  <thead>\n",
       "    <tr style=\"text-align: right;\">\n",
       "      <th></th>\n",
       "      <th>FAMILY_INCOME</th>\n",
       "      <th>PERSONAL_INCOME</th>\n",
       "      <th>ID_CLIENT</th>\n",
       "    </tr>\n",
       "  </thead>\n",
       "  <tbody>\n",
       "    <tr>\n",
       "      <th>0</th>\n",
       "      <td>от 20000 до 50000 руб.</td>\n",
       "      <td>20000.0</td>\n",
       "      <td>106809321</td>\n",
       "    </tr>\n",
       "    <tr>\n",
       "      <th>1</th>\n",
       "      <td>от 20000 до 50000 руб.</td>\n",
       "      <td>14000.0</td>\n",
       "      <td>106815561</td>\n",
       "    </tr>\n",
       "    <tr>\n",
       "      <th>2</th>\n",
       "      <td>от 10000 до 20000 руб.</td>\n",
       "      <td>15000.0</td>\n",
       "      <td>106811521</td>\n",
       "    </tr>\n",
       "  </tbody>\n",
       "</table>\n",
       "</div>"
      ],
      "text/plain": [
       "            FAMILY_INCOME  PERSONAL_INCOME  ID_CLIENT\n",
       "0  от 20000 до 50000 руб.          20000.0  106809321\n",
       "1  от 20000 до 50000 руб.          14000.0  106815561\n",
       "2  от 10000 до 20000 руб.          15000.0  106811521"
      ]
     },
     "execution_count": 49,
     "metadata": {},
     "output_type": "execute_result"
    }
   ],
   "source": [
    "d_frames['D_salary'].head(3)"
   ]
  },
  {
   "cell_type": "code",
   "execution_count": 50,
   "id": "eb37ddbb-f40a-413c-94df-6e325a844022",
   "metadata": {},
   "outputs": [
    {
     "data": {
      "text/html": [
       "<div>\n",
       "<style scoped>\n",
       "    .dataframe tbody tr th:only-of-type {\n",
       "        vertical-align: middle;\n",
       "    }\n",
       "\n",
       "    .dataframe tbody tr th {\n",
       "        vertical-align: top;\n",
       "    }\n",
       "\n",
       "    .dataframe thead th {\n",
       "        text-align: right;\n",
       "    }\n",
       "</style>\n",
       "<table border=\"1\" class=\"dataframe\">\n",
       "  <thead>\n",
       "    <tr style=\"text-align: right;\">\n",
       "      <th></th>\n",
       "      <th>AGREEMENT_RK</th>\n",
       "      <th>ID_CLIENT</th>\n",
       "      <th>TARGET</th>\n",
       "    </tr>\n",
       "  </thead>\n",
       "  <tbody>\n",
       "    <tr>\n",
       "      <th>0</th>\n",
       "      <td>59910150</td>\n",
       "      <td>106804370</td>\n",
       "      <td>0</td>\n",
       "    </tr>\n",
       "    <tr>\n",
       "      <th>1</th>\n",
       "      <td>59910230</td>\n",
       "      <td>106804371</td>\n",
       "      <td>0</td>\n",
       "    </tr>\n",
       "    <tr>\n",
       "      <th>2</th>\n",
       "      <td>59910525</td>\n",
       "      <td>106804372</td>\n",
       "      <td>0</td>\n",
       "    </tr>\n",
       "  </tbody>\n",
       "</table>\n",
       "</div>"
      ],
      "text/plain": [
       "   AGREEMENT_RK  ID_CLIENT  TARGET\n",
       "0      59910150  106804370       0\n",
       "1      59910230  106804371       0\n",
       "2      59910525  106804372       0"
      ]
     },
     "execution_count": 50,
     "metadata": {},
     "output_type": "execute_result"
    }
   ],
   "source": [
    "d_frames['D_target'].head(3)"
   ]
  },
  {
   "cell_type": "code",
   "execution_count": 51,
   "id": "64661b19-c4e9-4bd4-a418-c998ac9c31a1",
   "metadata": {},
   "outputs": [
    {
     "data": {
      "text/html": [
       "<div>\n",
       "<style scoped>\n",
       "    .dataframe tbody tr th:only-of-type {\n",
       "        vertical-align: middle;\n",
       "    }\n",
       "\n",
       "    .dataframe tbody tr th {\n",
       "        vertical-align: top;\n",
       "    }\n",
       "\n",
       "    .dataframe thead th {\n",
       "        text-align: right;\n",
       "    }\n",
       "</style>\n",
       "<table border=\"1\" class=\"dataframe\">\n",
       "  <thead>\n",
       "    <tr style=\"text-align: right;\">\n",
       "      <th></th>\n",
       "      <th>ID</th>\n",
       "      <th>FLAG</th>\n",
       "      <th>COMMENT</th>\n",
       "    </tr>\n",
       "  </thead>\n",
       "  <tbody>\n",
       "    <tr>\n",
       "      <th>0</th>\n",
       "      <td>1</td>\n",
       "      <td>0</td>\n",
       "      <td>работает</td>\n",
       "    </tr>\n",
       "    <tr>\n",
       "      <th>1</th>\n",
       "      <td>2</td>\n",
       "      <td>1</td>\n",
       "      <td>не работает</td>\n",
       "    </tr>\n",
       "    <tr>\n",
       "      <th>2</th>\n",
       "      <td>3</td>\n",
       "      <td>2</td>\n",
       "      <td>не известно</td>\n",
       "    </tr>\n",
       "  </tbody>\n",
       "</table>\n",
       "</div>"
      ],
      "text/plain": [
       "   ID  FLAG      COMMENT\n",
       "0   1     0     работает\n",
       "1   2     1  не работает\n",
       "2   3     2  не известно"
      ]
     },
     "execution_count": 51,
     "metadata": {},
     "output_type": "execute_result"
    }
   ],
   "source": [
    "d_frames['D_work'].head(3)"
   ]
  },
  {
   "cell_type": "code",
   "execution_count": 52,
   "id": "fce25c98-e0e4-4a0a-9daf-fdb97ba77f96",
   "metadata": {},
   "outputs": [
    {
     "data": {
      "text/html": [
       "<div>\n",
       "<style scoped>\n",
       "    .dataframe tbody tr th:only-of-type {\n",
       "        vertical-align: middle;\n",
       "    }\n",
       "\n",
       "    .dataframe tbody tr th {\n",
       "        vertical-align: top;\n",
       "    }\n",
       "\n",
       "    .dataframe thead th {\n",
       "        text-align: right;\n",
       "    }\n",
       "</style>\n",
       "<table border=\"1\" class=\"dataframe\">\n",
       "  <thead>\n",
       "    <tr style=\"text-align: right;\">\n",
       "      <th></th>\n",
       "      <th>GEN_INDUSTRY</th>\n",
       "      <th>GEN_TITLE</th>\n",
       "      <th>JOB_DIR</th>\n",
       "      <th>WORK_TIME</th>\n",
       "      <th>ID_CLIENT</th>\n",
       "    </tr>\n",
       "  </thead>\n",
       "  <tbody>\n",
       "    <tr>\n",
       "      <th>0</th>\n",
       "      <td>Торговля</td>\n",
       "      <td>Рабочий</td>\n",
       "      <td>Вспомогательный техперсонал</td>\n",
       "      <td>18.0</td>\n",
       "      <td>106804370</td>\n",
       "    </tr>\n",
       "    <tr>\n",
       "      <th>1</th>\n",
       "      <td>Торговля</td>\n",
       "      <td>Рабочий</td>\n",
       "      <td>Участие в основ. деятельности</td>\n",
       "      <td>97.0</td>\n",
       "      <td>106804371</td>\n",
       "    </tr>\n",
       "    <tr>\n",
       "      <th>2</th>\n",
       "      <td>Информационные технологии</td>\n",
       "      <td>Специалист</td>\n",
       "      <td>Участие в основ. деятельности</td>\n",
       "      <td>84.0</td>\n",
       "      <td>106804372</td>\n",
       "    </tr>\n",
       "  </tbody>\n",
       "</table>\n",
       "</div>"
      ],
      "text/plain": [
       "                GEN_INDUSTRY   GEN_TITLE                        JOB_DIR  \\\n",
       "0                   Торговля     Рабочий    Вспомогательный техперсонал   \n",
       "1                   Торговля     Рабочий  Участие в основ. деятельности   \n",
       "2  Информационные технологии  Специалист  Участие в основ. деятельности   \n",
       "\n",
       "   WORK_TIME  ID_CLIENT  \n",
       "0       18.0  106804370  \n",
       "1       97.0  106804371  \n",
       "2       84.0  106804372  "
      ]
     },
     "execution_count": 52,
     "metadata": {},
     "output_type": "execute_result"
    }
   ],
   "source": [
    "d_frames['D_job'].head(3)"
   ]
  },
  {
   "cell_type": "code",
   "execution_count": 53,
   "id": "7e0fcba0-8bf1-4b1c-ac48-4f16d88ac047",
   "metadata": {},
   "outputs": [
    {
     "data": {
      "text/html": [
       "<div>\n",
       "<style scoped>\n",
       "    .dataframe tbody tr th:only-of-type {\n",
       "        vertical-align: middle;\n",
       "    }\n",
       "\n",
       "    .dataframe tbody tr th {\n",
       "        vertical-align: top;\n",
       "    }\n",
       "\n",
       "    .dataframe thead th {\n",
       "        text-align: right;\n",
       "    }\n",
       "</style>\n",
       "<table border=\"1\" class=\"dataframe\">\n",
       "  <thead>\n",
       "    <tr style=\"text-align: right;\">\n",
       "      <th></th>\n",
       "      <th>ID_LOAN</th>\n",
       "      <th>CLOSED_FL</th>\n",
       "    </tr>\n",
       "  </thead>\n",
       "  <tbody>\n",
       "    <tr>\n",
       "      <th>0</th>\n",
       "      <td>1753790658</td>\n",
       "      <td>1</td>\n",
       "    </tr>\n",
       "    <tr>\n",
       "      <th>1</th>\n",
       "      <td>1753790659</td>\n",
       "      <td>1</td>\n",
       "    </tr>\n",
       "    <tr>\n",
       "      <th>2</th>\n",
       "      <td>1753790660</td>\n",
       "      <td>1</td>\n",
       "    </tr>\n",
       "  </tbody>\n",
       "</table>\n",
       "</div>"
      ],
      "text/plain": [
       "      ID_LOAN  CLOSED_FL\n",
       "0  1753790658          1\n",
       "1  1753790659          1\n",
       "2  1753790660          1"
      ]
     },
     "execution_count": 53,
     "metadata": {},
     "output_type": "execute_result"
    }
   ],
   "source": [
    "d_frames['D_close_loan'].head(3)"
   ]
  },
  {
   "cell_type": "markdown",
   "id": "b5d5951d-004e-4e72-a60b-0de380b4d13d",
   "metadata": {},
   "source": [
    "# \"Покрутим\" таблицы"
   ]
  },
  {
   "cell_type": "code",
   "execution_count": 57,
   "id": "abc772f6-b4e8-40ad-96f9-62d2ff90f947",
   "metadata": {},
   "outputs": [
    {
     "name": "stdout",
     "output_type": "stream",
     "text": [
      "<class 'pandas.core.frame.DataFrame'>\n",
      "RangeIndex: 15223 entries, 0 to 15222\n",
      "Data columns (total 3 columns):\n",
      " #   Column        Non-Null Count  Dtype\n",
      "---  ------        --------------  -----\n",
      " 0   AGREEMENT_RK  15223 non-null  int64\n",
      " 1   ID_CLIENT     15223 non-null  int64\n",
      " 2   TARGET        15223 non-null  int64\n",
      "dtypes: int64(3)\n",
      "memory usage: 356.9 KB\n"
     ]
    }
   ],
   "source": [
    "d_frames['D_target'].info()"
   ]
  },
  {
   "cell_type": "code",
   "execution_count": 59,
   "id": "0a1f5479-5040-4a90-b042-66f59f882187",
   "metadata": {},
   "outputs": [
    {
     "data": {
      "text/plain": [
       "(15223, 15223)"
      ]
     },
     "execution_count": 59,
     "metadata": {},
     "output_type": "execute_result"
    }
   ],
   "source": [
    "d_frames['D_target'].AGREEMENT_RK.nunique(), d_frames['D_target'].ID_CLIENT.nunique()"
   ]
  },
  {
   "cell_type": "code",
   "execution_count": 63,
   "id": "1f6bc397-ed74-4920-a804-3c7bae37785b",
   "metadata": {},
   "outputs": [
    {
     "data": {
      "text/plain": [
       "Index(['ID', 'AGE', 'GENDER', 'EDUCATION', 'MARITAL_STATUS', 'CHILD_TOTAL',\n",
       "       'DEPENDANTS', 'SOCSTATUS_WORK_FL', 'SOCSTATUS_PENS_FL',\n",
       "       'REG_ADDRESS_PROVINCE', 'FACT_ADDRESS_PROVINCE',\n",
       "       'POSTAL_ADDRESS_PROVINCE', 'FL_PRESENCE_FL', 'OWN_AUTO'],\n",
       "      dtype='object')"
      ]
     },
     "execution_count": 63,
     "metadata": {},
     "output_type": "execute_result"
    }
   ],
   "source": [
    "d_frames['D_clients'].columns"
   ]
  },
  {
   "cell_type": "code",
   "execution_count": 65,
   "id": "dcb7348d-fec4-4d86-9104-57c1ec949308",
   "metadata": {},
   "outputs": [
    {
     "data": {
      "text/plain": [
       "(16000, 16000)"
      ]
     },
     "execution_count": 65,
     "metadata": {},
     "output_type": "execute_result"
    }
   ],
   "source": [
    "d_frames['D_clients'].ID.nunique(), len(d_frames['D_clients'])"
   ]
  },
  {
   "cell_type": "code",
   "execution_count": 50,
   "id": "a9cc7ac0-9638-420a-b89a-42cf107b4bcb",
   "metadata": {},
   "outputs": [],
   "source": [
    "D_target=d_frames['D_target']\n",
    "D_clients=d_frames['D_clients']\n",
    "D_salary=d_frames['D_salary']\n",
    "D_close_loan=d_frames['D_close_loan']\n",
    "D_loan=d_frames['D_loan']\n",
    "D_close_loan=d_frames['D_close_loan']\n",
    "D_salary=d_frames['D_salary']"
   ]
  },
  {
   "cell_type": "code",
   "execution_count": 51,
   "id": "c99dbd7f-09a5-496c-956d-4aecc109fb59",
   "metadata": {},
   "outputs": [
    {
     "data": {
      "text/plain": [
       "(15523, 15223)"
      ]
     },
     "execution_count": 51,
     "metadata": {},
     "output_type": "execute_result"
    }
   ],
   "source": [
    "len(D_salary), D_salary.ID_CLIENT.nunique()"
   ]
  },
  {
   "cell_type": "code",
   "execution_count": 80,
   "id": "00db0581-f1d3-42a2-8647-63418b80e163",
   "metadata": {},
   "outputs": [
    {
     "data": {
      "text/plain": [
       "(21126, 21126)"
      ]
     },
     "execution_count": 80,
     "metadata": {},
     "output_type": "execute_result"
    }
   ],
   "source": [
    "len(D_close_loan), D_close_loan.ID_LOAN.nunique()"
   ]
  },
  {
   "cell_type": "code",
   "execution_count": 83,
   "id": "e2f0bb12-d133-4e5a-8aab-08f14d566b9e",
   "metadata": {},
   "outputs": [
    {
     "data": {
      "text/plain": [
       "(21126, 21126)"
      ]
     },
     "execution_count": 83,
     "metadata": {},
     "output_type": "execute_result"
    }
   ],
   "source": [
    "len(D_loan), D_loan.ID_LOAN.nunique()"
   ]
  },
  {
   "cell_type": "code",
   "execution_count": 85,
   "id": "4274ca1c-5d94-4782-9a19-1bbf607d6064",
   "metadata": {},
   "outputs": [
    {
     "data": {
      "text/plain": [
       "(21126, 21126)"
      ]
     },
     "execution_count": 85,
     "metadata": {},
     "output_type": "execute_result"
    }
   ],
   "source": [
    "len(D_close_loan), D_close_loan.ID_LOAN.nunique()"
   ]
  },
  {
   "cell_type": "code",
   "execution_count": 87,
   "id": "890f47f7-7f42-4408-a989-94655ac2ffda",
   "metadata": {},
   "outputs": [
    {
     "data": {
      "text/plain": [
       "CLOSED_FL\n",
       "1    11446\n",
       "0     9680\n",
       "Name: count, dtype: int64"
      ]
     },
     "execution_count": 87,
     "metadata": {},
     "output_type": "execute_result"
    }
   ],
   "source": [
    "D_close_loan.CLOSED_FL.value_counts()"
   ]
  },
  {
   "cell_type": "code",
   "execution_count": 52,
   "id": "49a6d730-1488-4e3f-a916-38193e21db3b",
   "metadata": {},
   "outputs": [],
   "source": [
    "query=\"\"\"\n",
    "select\n",
    "a.*\n",
    ", b.AGE\n",
    ", b.GENDER\n",
    ", b.CHILD_TOTAL\n",
    ", b.DEPENDANTS\n",
    ", b.SOCSTATUS_WORK_FL\n",
    ", b.SOCSTATUS_PENS_FL\n",
    ", sal.PERSONAL_INCOME\n",
    ", n_loans.LOAN_NUM_TOTAL\n",
    ", n_loans.LOAN_NUM_CLOSED\n",
    "from D_target as a \n",
    "left join D_clients as b \n",
    "    on a.ID_CLIENT=b.ID\n",
    "left join D_salary as sal \n",
    "    on a.ID_CLIENT=sal.ID_CLIENT\n",
    "left join \n",
    "    (select\n",
    "    ln.ID_CLIENT\n",
    "    , count(distinct ln.ID_LOAN) as LOAN_NUM_TOTAL\n",
    "    , sum(cl_ln.CLOSED_FL) as LOAN_NUM_CLOSED\n",
    "    from D_loan ln\n",
    "    left join D_close_loan cl_ln on ln.ID_LOAN=cl_ln.ID_LOAN\n",
    "    group by 1) n_loans on a.ID_CLIENT=n_loans.ID_CLIENT\n",
    "\"\"\""
   ]
  },
  {
   "cell_type": "code",
   "execution_count": 53,
   "id": "0f4b9098-924e-4e8a-a05e-2c88ee9566a7",
   "metadata": {},
   "outputs": [],
   "source": [
    "df_client_agg=duckdb.sql(query).df()"
   ]
  },
  {
   "cell_type": "code",
   "execution_count": 54,
   "id": "5d698d46-819a-4a6a-9935-0236347d1fe0",
   "metadata": {},
   "outputs": [
    {
     "data": {
      "text/html": [
       "<div>\n",
       "<style scoped>\n",
       "    .dataframe tbody tr th:only-of-type {\n",
       "        vertical-align: middle;\n",
       "    }\n",
       "\n",
       "    .dataframe tbody tr th {\n",
       "        vertical-align: top;\n",
       "    }\n",
       "\n",
       "    .dataframe thead th {\n",
       "        text-align: right;\n",
       "    }\n",
       "</style>\n",
       "<table border=\"1\" class=\"dataframe\">\n",
       "  <thead>\n",
       "    <tr style=\"text-align: right;\">\n",
       "      <th></th>\n",
       "      <th>AGREEMENT_RK</th>\n",
       "      <th>ID_CLIENT</th>\n",
       "      <th>TARGET</th>\n",
       "      <th>AGE</th>\n",
       "      <th>GENDER</th>\n",
       "      <th>CHILD_TOTAL</th>\n",
       "      <th>DEPENDANTS</th>\n",
       "      <th>SOCSTATUS_WORK_FL</th>\n",
       "      <th>SOCSTATUS_PENS_FL</th>\n",
       "      <th>PERSONAL_INCOME</th>\n",
       "      <th>LOAN_NUM_TOTAL</th>\n",
       "      <th>LOAN_NUM_CLOSED</th>\n",
       "    </tr>\n",
       "  </thead>\n",
       "  <tbody>\n",
       "    <tr>\n",
       "      <th>0</th>\n",
       "      <td>59910150</td>\n",
       "      <td>106804370</td>\n",
       "      <td>0</td>\n",
       "      <td>49</td>\n",
       "      <td>1</td>\n",
       "      <td>2</td>\n",
       "      <td>1</td>\n",
       "      <td>1</td>\n",
       "      <td>0</td>\n",
       "      <td>5000.0</td>\n",
       "      <td>1</td>\n",
       "      <td>1.0</td>\n",
       "    </tr>\n",
       "    <tr>\n",
       "      <th>1</th>\n",
       "      <td>59910525</td>\n",
       "      <td>106804372</td>\n",
       "      <td>0</td>\n",
       "      <td>52</td>\n",
       "      <td>1</td>\n",
       "      <td>4</td>\n",
       "      <td>0</td>\n",
       "      <td>1</td>\n",
       "      <td>0</td>\n",
       "      <td>9000.0</td>\n",
       "      <td>2</td>\n",
       "      <td>1.0</td>\n",
       "    </tr>\n",
       "    <tr>\n",
       "      <th>2</th>\n",
       "      <td>59910803</td>\n",
       "      <td>106804373</td>\n",
       "      <td>0</td>\n",
       "      <td>39</td>\n",
       "      <td>1</td>\n",
       "      <td>1</td>\n",
       "      <td>1</td>\n",
       "      <td>1</td>\n",
       "      <td>0</td>\n",
       "      <td>25000.0</td>\n",
       "      <td>1</td>\n",
       "      <td>1.0</td>\n",
       "    </tr>\n",
       "    <tr>\n",
       "      <th>3</th>\n",
       "      <td>59911781</td>\n",
       "      <td>106804374</td>\n",
       "      <td>0</td>\n",
       "      <td>30</td>\n",
       "      <td>0</td>\n",
       "      <td>0</td>\n",
       "      <td>0</td>\n",
       "      <td>1</td>\n",
       "      <td>0</td>\n",
       "      <td>12000.0</td>\n",
       "      <td>2</td>\n",
       "      <td>1.0</td>\n",
       "    </tr>\n",
       "    <tr>\n",
       "      <th>4</th>\n",
       "      <td>59911784</td>\n",
       "      <td>106804375</td>\n",
       "      <td>0</td>\n",
       "      <td>29</td>\n",
       "      <td>0</td>\n",
       "      <td>0</td>\n",
       "      <td>0</td>\n",
       "      <td>1</td>\n",
       "      <td>0</td>\n",
       "      <td>12000.0</td>\n",
       "      <td>2</td>\n",
       "      <td>1.0</td>\n",
       "    </tr>\n",
       "  </tbody>\n",
       "</table>\n",
       "</div>"
      ],
      "text/plain": [
       "   AGREEMENT_RK  ID_CLIENT  TARGET  AGE  GENDER  CHILD_TOTAL  DEPENDANTS  \\\n",
       "0      59910150  106804370       0   49       1            2           1   \n",
       "1      59910525  106804372       0   52       1            4           0   \n",
       "2      59910803  106804373       0   39       1            1           1   \n",
       "3      59911781  106804374       0   30       0            0           0   \n",
       "4      59911784  106804375       0   29       0            0           0   \n",
       "\n",
       "   SOCSTATUS_WORK_FL  SOCSTATUS_PENS_FL  PERSONAL_INCOME  LOAN_NUM_TOTAL  \\\n",
       "0                  1                  0           5000.0               1   \n",
       "1                  1                  0           9000.0               2   \n",
       "2                  1                  0          25000.0               1   \n",
       "3                  1                  0          12000.0               2   \n",
       "4                  1                  0          12000.0               2   \n",
       "\n",
       "   LOAN_NUM_CLOSED  \n",
       "0              1.0  \n",
       "1              1.0  \n",
       "2              1.0  \n",
       "3              1.0  \n",
       "4              1.0  "
      ]
     },
     "execution_count": 54,
     "metadata": {},
     "output_type": "execute_result"
    }
   ],
   "source": [
    "df_client_agg.head()"
   ]
  },
  {
   "cell_type": "code",
   "execution_count": 55,
   "id": "50cd8d11-ac91-4edc-afb5-db45533dde0b",
   "metadata": {},
   "outputs": [
    {
     "name": "stdout",
     "output_type": "stream",
     "text": [
      "<class 'pandas.core.frame.DataFrame'>\n",
      "RangeIndex: 15523 entries, 0 to 15522\n",
      "Data columns (total 12 columns):\n",
      " #   Column             Non-Null Count  Dtype  \n",
      "---  ------             --------------  -----  \n",
      " 0   AGREEMENT_RK       15523 non-null  int64  \n",
      " 1   ID_CLIENT          15523 non-null  int64  \n",
      " 2   TARGET             15523 non-null  int64  \n",
      " 3   AGE                15523 non-null  int64  \n",
      " 4   GENDER             15523 non-null  int64  \n",
      " 5   CHILD_TOTAL        15523 non-null  int64  \n",
      " 6   DEPENDANTS         15523 non-null  int64  \n",
      " 7   SOCSTATUS_WORK_FL  15523 non-null  int64  \n",
      " 8   SOCSTATUS_PENS_FL  15523 non-null  int64  \n",
      " 9   PERSONAL_INCOME    15523 non-null  float64\n",
      " 10  LOAN_NUM_TOTAL     15523 non-null  int64  \n",
      " 11  LOAN_NUM_CLOSED    15523 non-null  float64\n",
      "dtypes: float64(2), int64(10)\n",
      "memory usage: 1.4 MB\n"
     ]
    }
   ],
   "source": [
    "df_client_agg.info()"
   ]
  },
  {
   "cell_type": "code",
   "execution_count": 56,
   "id": "7536b72e-741a-4c81-a640-62cbddb46af3",
   "metadata": {},
   "outputs": [
    {
     "data": {
      "text/html": [
       "<div>\n",
       "<style scoped>\n",
       "    .dataframe tbody tr th:only-of-type {\n",
       "        vertical-align: middle;\n",
       "    }\n",
       "\n",
       "    .dataframe tbody tr th {\n",
       "        vertical-align: top;\n",
       "    }\n",
       "\n",
       "    .dataframe thead th {\n",
       "        text-align: right;\n",
       "    }\n",
       "</style>\n",
       "<table border=\"1\" class=\"dataframe\">\n",
       "  <thead>\n",
       "    <tr style=\"text-align: right;\">\n",
       "      <th></th>\n",
       "      <th>TARGET</th>\n",
       "      <th>AGE</th>\n",
       "      <th>GENDER</th>\n",
       "      <th>CHILD_TOTAL</th>\n",
       "      <th>DEPENDANTS</th>\n",
       "      <th>SOCSTATUS_WORK_FL</th>\n",
       "      <th>SOCSTATUS_PENS_FL</th>\n",
       "      <th>PERSONAL_INCOME</th>\n",
       "      <th>LOAN_NUM_TOTAL</th>\n",
       "      <th>LOAN_NUM_CLOSED</th>\n",
       "    </tr>\n",
       "  </thead>\n",
       "  <tbody>\n",
       "    <tr>\n",
       "      <th>count</th>\n",
       "      <td>15523.000000</td>\n",
       "      <td>15523.000000</td>\n",
       "      <td>15523.000000</td>\n",
       "      <td>15523.000000</td>\n",
       "      <td>15523.000000</td>\n",
       "      <td>15523.000000</td>\n",
       "      <td>15523.000000</td>\n",
       "      <td>15523.000000</td>\n",
       "      <td>15523.000000</td>\n",
       "      <td>15523.000000</td>\n",
       "    </tr>\n",
       "    <tr>\n",
       "      <th>mean</th>\n",
       "      <td>0.119371</td>\n",
       "      <td>40.400438</td>\n",
       "      <td>0.653997</td>\n",
       "      <td>1.098886</td>\n",
       "      <td>0.644850</td>\n",
       "      <td>0.909360</td>\n",
       "      <td>0.134639</td>\n",
       "      <td>13848.041638</td>\n",
       "      <td>1.387296</td>\n",
       "      <td>0.751594</td>\n",
       "    </tr>\n",
       "    <tr>\n",
       "      <th>std</th>\n",
       "      <td>0.324235</td>\n",
       "      <td>11.607242</td>\n",
       "      <td>0.475709</td>\n",
       "      <td>0.996748</td>\n",
       "      <td>0.812663</td>\n",
       "      <td>0.287105</td>\n",
       "      <td>0.341348</td>\n",
       "      <td>8998.618992</td>\n",
       "      <td>0.794241</td>\n",
       "      <td>0.989253</td>\n",
       "    </tr>\n",
       "    <tr>\n",
       "      <th>min</th>\n",
       "      <td>0.000000</td>\n",
       "      <td>21.000000</td>\n",
       "      <td>0.000000</td>\n",
       "      <td>0.000000</td>\n",
       "      <td>0.000000</td>\n",
       "      <td>0.000000</td>\n",
       "      <td>0.000000</td>\n",
       "      <td>24.000000</td>\n",
       "      <td>1.000000</td>\n",
       "      <td>0.000000</td>\n",
       "    </tr>\n",
       "    <tr>\n",
       "      <th>25%</th>\n",
       "      <td>0.000000</td>\n",
       "      <td>30.000000</td>\n",
       "      <td>0.000000</td>\n",
       "      <td>0.000000</td>\n",
       "      <td>0.000000</td>\n",
       "      <td>1.000000</td>\n",
       "      <td>0.000000</td>\n",
       "      <td>8000.000000</td>\n",
       "      <td>1.000000</td>\n",
       "      <td>0.000000</td>\n",
       "    </tr>\n",
       "    <tr>\n",
       "      <th>50%</th>\n",
       "      <td>0.000000</td>\n",
       "      <td>39.000000</td>\n",
       "      <td>1.000000</td>\n",
       "      <td>1.000000</td>\n",
       "      <td>0.000000</td>\n",
       "      <td>1.000000</td>\n",
       "      <td>0.000000</td>\n",
       "      <td>12000.000000</td>\n",
       "      <td>1.000000</td>\n",
       "      <td>0.000000</td>\n",
       "    </tr>\n",
       "    <tr>\n",
       "      <th>75%</th>\n",
       "      <td>0.000000</td>\n",
       "      <td>50.000000</td>\n",
       "      <td>1.000000</td>\n",
       "      <td>2.000000</td>\n",
       "      <td>1.000000</td>\n",
       "      <td>1.000000</td>\n",
       "      <td>0.000000</td>\n",
       "      <td>17000.000000</td>\n",
       "      <td>2.000000</td>\n",
       "      <td>1.000000</td>\n",
       "    </tr>\n",
       "    <tr>\n",
       "      <th>max</th>\n",
       "      <td>1.000000</td>\n",
       "      <td>67.000000</td>\n",
       "      <td>1.000000</td>\n",
       "      <td>10.000000</td>\n",
       "      <td>7.000000</td>\n",
       "      <td>1.000000</td>\n",
       "      <td>1.000000</td>\n",
       "      <td>250000.000000</td>\n",
       "      <td>11.000000</td>\n",
       "      <td>11.000000</td>\n",
       "    </tr>\n",
       "  </tbody>\n",
       "</table>\n",
       "</div>"
      ],
      "text/plain": [
       "             TARGET           AGE        GENDER   CHILD_TOTAL    DEPENDANTS  \\\n",
       "count  15523.000000  15523.000000  15523.000000  15523.000000  15523.000000   \n",
       "mean       0.119371     40.400438      0.653997      1.098886      0.644850   \n",
       "std        0.324235     11.607242      0.475709      0.996748      0.812663   \n",
       "min        0.000000     21.000000      0.000000      0.000000      0.000000   \n",
       "25%        0.000000     30.000000      0.000000      0.000000      0.000000   \n",
       "50%        0.000000     39.000000      1.000000      1.000000      0.000000   \n",
       "75%        0.000000     50.000000      1.000000      2.000000      1.000000   \n",
       "max        1.000000     67.000000      1.000000     10.000000      7.000000   \n",
       "\n",
       "       SOCSTATUS_WORK_FL  SOCSTATUS_PENS_FL  PERSONAL_INCOME  LOAN_NUM_TOTAL  \\\n",
       "count       15523.000000       15523.000000     15523.000000    15523.000000   \n",
       "mean            0.909360           0.134639     13848.041638        1.387296   \n",
       "std             0.287105           0.341348      8998.618992        0.794241   \n",
       "min             0.000000           0.000000        24.000000        1.000000   \n",
       "25%             1.000000           0.000000      8000.000000        1.000000   \n",
       "50%             1.000000           0.000000     12000.000000        1.000000   \n",
       "75%             1.000000           0.000000     17000.000000        2.000000   \n",
       "max             1.000000           1.000000    250000.000000       11.000000   \n",
       "\n",
       "       LOAN_NUM_CLOSED  \n",
       "count     15523.000000  \n",
       "mean          0.751594  \n",
       "std           0.989253  \n",
       "min           0.000000  \n",
       "25%           0.000000  \n",
       "50%           0.000000  \n",
       "75%           1.000000  \n",
       "max          11.000000  "
      ]
     },
     "execution_count": 56,
     "metadata": {},
     "output_type": "execute_result"
    }
   ],
   "source": [
    "df_client_agg.iloc[:, 2:].describe()"
   ]
  },
  {
   "cell_type": "code",
   "execution_count": 57,
   "id": "d545da18-ab61-4b6c-99f3-9684aa16d3d2",
   "metadata": {},
   "outputs": [
    {
     "data": {
      "text/plain": [
       "AGREEMENT_RK           int64\n",
       "ID_CLIENT              int64\n",
       "TARGET                 int64\n",
       "AGE                    int64\n",
       "GENDER                 int64\n",
       "CHILD_TOTAL            int64\n",
       "DEPENDANTS             int64\n",
       "SOCSTATUS_WORK_FL      int64\n",
       "SOCSTATUS_PENS_FL      int64\n",
       "PERSONAL_INCOME      float64\n",
       "LOAN_NUM_TOTAL         int64\n",
       "LOAN_NUM_CLOSED      float64\n",
       "dtype: object"
      ]
     },
     "execution_count": 57,
     "metadata": {},
     "output_type": "execute_result"
    }
   ],
   "source": [
    "df_client_agg.dtypes"
   ]
  },
  {
   "cell_type": "code",
   "execution_count": 14,
   "id": "c9ed80ac-490b-4ec2-b65e-de62802ffe05",
   "metadata": {},
   "outputs": [
    {
     "data": {
      "text/plain": [
       "Index(['TARGET', 'AGE', 'GENDER', 'CHILD_TOTAL', 'DEPENDANTS',\n",
       "       'SOCSTATUS_WORK_FL', 'SOCSTATUS_PENS_FL', 'LOAN_NUM_TOTAL',\n",
       "       'LOAN_NUM_CLOSED'],\n",
       "      dtype='object')"
      ]
     },
     "execution_count": 14,
     "metadata": {},
     "output_type": "execute_result"
    }
   ],
   "source": [
    "df_client_agg.columns[2:]"
   ]
  },
  {
   "cell_type": "code",
   "execution_count": 61,
   "id": "c9a82b17-a3b8-4567-9f81-da3720c069dc",
   "metadata": {},
   "outputs": [
    {
     "data": {
      "text/plain": [
       "4294967296"
      ]
     },
     "execution_count": 61,
     "metadata": {},
     "output_type": "execute_result"
    }
   ],
   "source": [
    "2**32"
   ]
  },
  {
   "cell_type": "code",
   "execution_count": 62,
   "id": "5e7579ea-f8f3-4886-b8dc-99cd6c7adbbd",
   "metadata": {},
   "outputs": [],
   "source": [
    "for col in df_client_agg.columns[2:]:\n",
    "    df_client_agg[col]=df_client_agg[col].astype('int32')"
   ]
  },
  {
   "cell_type": "code",
   "execution_count": 63,
   "id": "0a0c4b7c-3867-4f2e-a11d-b8cb53927e70",
   "metadata": {},
   "outputs": [
    {
     "name": "stdout",
     "output_type": "stream",
     "text": [
      "<class 'pandas.core.frame.DataFrame'>\n",
      "RangeIndex: 15523 entries, 0 to 15522\n",
      "Data columns (total 12 columns):\n",
      " #   Column             Non-Null Count  Dtype\n",
      "---  ------             --------------  -----\n",
      " 0   AGREEMENT_RK       15523 non-null  int64\n",
      " 1   ID_CLIENT          15523 non-null  int64\n",
      " 2   TARGET             15523 non-null  int32\n",
      " 3   AGE                15523 non-null  int32\n",
      " 4   GENDER             15523 non-null  int32\n",
      " 5   CHILD_TOTAL        15523 non-null  int32\n",
      " 6   DEPENDANTS         15523 non-null  int32\n",
      " 7   SOCSTATUS_WORK_FL  15523 non-null  int32\n",
      " 8   SOCSTATUS_PENS_FL  15523 non-null  int32\n",
      " 9   PERSONAL_INCOME    15523 non-null  int32\n",
      " 10  LOAN_NUM_TOTAL     15523 non-null  int32\n",
      " 11  LOAN_NUM_CLOSED    15523 non-null  int32\n",
      "dtypes: int32(10), int64(2)\n",
      "memory usage: 849.0 KB\n"
     ]
    }
   ],
   "source": [
    "df_client_agg.info()"
   ]
  },
  {
   "cell_type": "code",
   "execution_count": 64,
   "id": "d8666f2f-decf-4d99-abea-cea2195f6f3d",
   "metadata": {},
   "outputs": [],
   "source": [
    "df_client_agg.to_csv('data/df_client_agg.csv', index=False)"
   ]
  },
  {
   "cell_type": "code",
   "execution_count": 2,
   "id": "41295c2f-07a8-4d1b-a4b8-c941e18d5c82",
   "metadata": {},
   "outputs": [],
   "source": [
    "df_client_agg=pd.read_csv('data/df_client_agg.csv')"
   ]
  },
  {
   "cell_type": "code",
   "execution_count": 65,
   "id": "421b8c58-8d7a-4c8c-89b0-5b90ff1663a4",
   "metadata": {},
   "outputs": [
    {
     "data": {
      "text/html": [
       "<div>\n",
       "<style scoped>\n",
       "    .dataframe tbody tr th:only-of-type {\n",
       "        vertical-align: middle;\n",
       "    }\n",
       "\n",
       "    .dataframe tbody tr th {\n",
       "        vertical-align: top;\n",
       "    }\n",
       "\n",
       "    .dataframe thead th {\n",
       "        text-align: right;\n",
       "    }\n",
       "</style>\n",
       "<table border=\"1\" class=\"dataframe\">\n",
       "  <thead>\n",
       "    <tr style=\"text-align: right;\">\n",
       "      <th></th>\n",
       "      <th>AGREEMENT_RK</th>\n",
       "      <th>ID_CLIENT</th>\n",
       "      <th>TARGET</th>\n",
       "      <th>AGE</th>\n",
       "      <th>GENDER</th>\n",
       "      <th>CHILD_TOTAL</th>\n",
       "      <th>DEPENDANTS</th>\n",
       "      <th>SOCSTATUS_WORK_FL</th>\n",
       "      <th>SOCSTATUS_PENS_FL</th>\n",
       "      <th>PERSONAL_INCOME</th>\n",
       "      <th>LOAN_NUM_TOTAL</th>\n",
       "      <th>LOAN_NUM_CLOSED</th>\n",
       "    </tr>\n",
       "  </thead>\n",
       "  <tbody>\n",
       "    <tr>\n",
       "      <th>0</th>\n",
       "      <td>59910150</td>\n",
       "      <td>106804370</td>\n",
       "      <td>0</td>\n",
       "      <td>49</td>\n",
       "      <td>1</td>\n",
       "      <td>2</td>\n",
       "      <td>1</td>\n",
       "      <td>1</td>\n",
       "      <td>0</td>\n",
       "      <td>5000</td>\n",
       "      <td>1</td>\n",
       "      <td>1</td>\n",
       "    </tr>\n",
       "    <tr>\n",
       "      <th>1</th>\n",
       "      <td>59910525</td>\n",
       "      <td>106804372</td>\n",
       "      <td>0</td>\n",
       "      <td>52</td>\n",
       "      <td>1</td>\n",
       "      <td>4</td>\n",
       "      <td>0</td>\n",
       "      <td>1</td>\n",
       "      <td>0</td>\n",
       "      <td>9000</td>\n",
       "      <td>2</td>\n",
       "      <td>1</td>\n",
       "    </tr>\n",
       "    <tr>\n",
       "      <th>2</th>\n",
       "      <td>59910803</td>\n",
       "      <td>106804373</td>\n",
       "      <td>0</td>\n",
       "      <td>39</td>\n",
       "      <td>1</td>\n",
       "      <td>1</td>\n",
       "      <td>1</td>\n",
       "      <td>1</td>\n",
       "      <td>0</td>\n",
       "      <td>25000</td>\n",
       "      <td>1</td>\n",
       "      <td>1</td>\n",
       "    </tr>\n",
       "    <tr>\n",
       "      <th>3</th>\n",
       "      <td>59911781</td>\n",
       "      <td>106804374</td>\n",
       "      <td>0</td>\n",
       "      <td>30</td>\n",
       "      <td>0</td>\n",
       "      <td>0</td>\n",
       "      <td>0</td>\n",
       "      <td>1</td>\n",
       "      <td>0</td>\n",
       "      <td>12000</td>\n",
       "      <td>2</td>\n",
       "      <td>1</td>\n",
       "    </tr>\n",
       "    <tr>\n",
       "      <th>4</th>\n",
       "      <td>59911784</td>\n",
       "      <td>106804375</td>\n",
       "      <td>0</td>\n",
       "      <td>29</td>\n",
       "      <td>0</td>\n",
       "      <td>0</td>\n",
       "      <td>0</td>\n",
       "      <td>1</td>\n",
       "      <td>0</td>\n",
       "      <td>12000</td>\n",
       "      <td>2</td>\n",
       "      <td>1</td>\n",
       "    </tr>\n",
       "  </tbody>\n",
       "</table>\n",
       "</div>"
      ],
      "text/plain": [
       "   AGREEMENT_RK  ID_CLIENT  TARGET  AGE  GENDER  CHILD_TOTAL  DEPENDANTS  \\\n",
       "0      59910150  106804370       0   49       1            2           1   \n",
       "1      59910525  106804372       0   52       1            4           0   \n",
       "2      59910803  106804373       0   39       1            1           1   \n",
       "3      59911781  106804374       0   30       0            0           0   \n",
       "4      59911784  106804375       0   29       0            0           0   \n",
       "\n",
       "   SOCSTATUS_WORK_FL  SOCSTATUS_PENS_FL  PERSONAL_INCOME  LOAN_NUM_TOTAL  \\\n",
       "0                  1                  0             5000               1   \n",
       "1                  1                  0             9000               2   \n",
       "2                  1                  0            25000               1   \n",
       "3                  1                  0            12000               2   \n",
       "4                  1                  0            12000               2   \n",
       "\n",
       "   LOAN_NUM_CLOSED  \n",
       "0                1  \n",
       "1                1  \n",
       "2                1  \n",
       "3                1  \n",
       "4                1  "
      ]
     },
     "execution_count": 65,
     "metadata": {},
     "output_type": "execute_result"
    }
   ],
   "source": [
    "df_client_agg.head()"
   ]
  },
  {
   "cell_type": "code",
   "execution_count": 66,
   "id": "9011217c-895d-41db-8ace-335cbee490b2",
   "metadata": {},
   "outputs": [
    {
     "data": {
      "text/plain": [
       "10"
      ]
     },
     "execution_count": 66,
     "metadata": {},
     "output_type": "execute_result"
    }
   ],
   "source": [
    "len(df_client_agg.columns[2:])"
   ]
  },
  {
   "cell_type": "code",
   "execution_count": null,
   "id": "2eba1127-a10d-439d-a799-09d75db94eb8",
   "metadata": {},
   "outputs": [],
   "source": [
    "help("
   ]
  },
  {
   "cell_type": "code",
   "execution_count": null,
   "id": "0937f740-0157-44ea-aeb0-7fe9c2a84b5f",
   "metadata": {},
   "outputs": [],
   "source": [
    "fig, axes = plt.subplots(5, 2, figsize=(25, 20))\n",
    "\n",
    "\n",
    "\n",
    "axes[0][0].hist(df_client_agg['AGE'])\n",
    "axes[0][0].set_title('Distribution by AGE')\n",
    "\n",
    "axes[0][1].hist(df_client_agg['GENDER'])\n",
    "axes[0][1].set_title('Distribution by GENDER')\n",
    "\n",
    "axes[1][0].hist(df_client_agg['CHILD_TOTAL'])\n",
    "axes[1][0].set_title('Distribution by CHILD_TOTAL')\n",
    "\n",
    "axes[1][1].hist(df_client_agg['DEPENDANTS'])\n",
    "axes[1][1].set_title('Distribution by DEPENDANTS')\n",
    "\n",
    "axes[2][0].hist(df_client_agg['SOCSTATUS_WORK_FL'])\n",
    "axes[2][0].set_title('Distribution by SOCSTATUS_WORK_FL')\n",
    "\n",
    "axes[2][1].hist(df_client_agg['SOCSTATUS_PENS_FL'])\n",
    "axes[2][1].set_title('Distribution by SOCSTATUS_PENS_FL')\n",
    "\n",
    "axes[3][0].hist(df_client_agg['PERSONAL_INCOME'])\n",
    "axes[3][0].set_title('Distribution by PERSONAL_INCOME')\n",
    "\n",
    "axes[3][1].hist(df_client_agg['LOAN_NUM_TOTAL'])\n",
    "axes[3][1].set_title('Distribution by LOAN_NUM_TOTAL')\n",
    "\n",
    "axes[4][0].hist(df_client_agg['LOAN_NUM_CLOSED'])\n",
    "axes[4][0].set_title('Distribution by LOAN_NUM_CLOSED')\n",
    "\n",
    "axes[4][1].hist(df_client_agg['TARGET'])\n",
    "axes[4][1].set_title('Distribution by TARGET')\n"
   ]
  },
  {
   "cell_type": "code",
   "execution_count": 69,
   "id": "986256e4-f17b-4fd2-bca4-5fbb19d72695",
   "metadata": {},
   "outputs": [
    {
     "data": {
      "text/html": [
       "<div>\n",
       "<style scoped>\n",
       "    .dataframe tbody tr th:only-of-type {\n",
       "        vertical-align: middle;\n",
       "    }\n",
       "\n",
       "    .dataframe tbody tr th {\n",
       "        vertical-align: top;\n",
       "    }\n",
       "\n",
       "    .dataframe thead th {\n",
       "        text-align: right;\n",
       "    }\n",
       "</style>\n",
       "<table border=\"1\" class=\"dataframe\">\n",
       "  <thead>\n",
       "    <tr style=\"text-align: right;\">\n",
       "      <th></th>\n",
       "      <th>TARGET</th>\n",
       "      <th>AGE</th>\n",
       "      <th>GENDER</th>\n",
       "      <th>CHILD_TOTAL</th>\n",
       "      <th>DEPENDANTS</th>\n",
       "      <th>SOCSTATUS_WORK_FL</th>\n",
       "      <th>SOCSTATUS_PENS_FL</th>\n",
       "      <th>PERSONAL_INCOME</th>\n",
       "      <th>LOAN_NUM_TOTAL</th>\n",
       "      <th>LOAN_NUM_CLOSED</th>\n",
       "    </tr>\n",
       "  </thead>\n",
       "  <tbody>\n",
       "    <tr>\n",
       "      <th>TARGET</th>\n",
       "      <td>1.000000</td>\n",
       "      <td>-0.104542</td>\n",
       "      <td>-0.030849</td>\n",
       "      <td>0.010917</td>\n",
       "      <td>0.051368</td>\n",
       "      <td>0.078173</td>\n",
       "      <td>-0.084105</td>\n",
       "      <td>0.092851</td>\n",
       "      <td>-0.032437</td>\n",
       "      <td>-0.061603</td>\n",
       "    </tr>\n",
       "    <tr>\n",
       "      <th>AGE</th>\n",
       "      <td>-0.104542</td>\n",
       "      <td>1.000000</td>\n",
       "      <td>0.145340</td>\n",
       "      <td>0.209761</td>\n",
       "      <td>-0.285184</td>\n",
       "      <td>-0.454048</td>\n",
       "      <td>0.561547</td>\n",
       "      <td>-0.090645</td>\n",
       "      <td>0.023883</td>\n",
       "      <td>-0.000987</td>\n",
       "    </tr>\n",
       "    <tr>\n",
       "      <th>GENDER</th>\n",
       "      <td>-0.030849</td>\n",
       "      <td>0.145340</td>\n",
       "      <td>1.000000</td>\n",
       "      <td>0.050423</td>\n",
       "      <td>-0.081410</td>\n",
       "      <td>-0.104164</td>\n",
       "      <td>0.133761</td>\n",
       "      <td>-0.239444</td>\n",
       "      <td>0.008725</td>\n",
       "      <td>0.011885</td>\n",
       "    </tr>\n",
       "    <tr>\n",
       "      <th>CHILD_TOTAL</th>\n",
       "      <td>0.010917</td>\n",
       "      <td>0.209761</td>\n",
       "      <td>0.050423</td>\n",
       "      <td>1.000000</td>\n",
       "      <td>0.510148</td>\n",
       "      <td>-0.040943</td>\n",
       "      <td>0.059897</td>\n",
       "      <td>-0.053580</td>\n",
       "      <td>0.036906</td>\n",
       "      <td>0.006423</td>\n",
       "    </tr>\n",
       "    <tr>\n",
       "      <th>DEPENDANTS</th>\n",
       "      <td>0.051368</td>\n",
       "      <td>-0.285184</td>\n",
       "      <td>-0.081410</td>\n",
       "      <td>0.510148</td>\n",
       "      <td>1.000000</td>\n",
       "      <td>0.201100</td>\n",
       "      <td>-0.248439</td>\n",
       "      <td>0.035058</td>\n",
       "      <td>0.055113</td>\n",
       "      <td>0.042516</td>\n",
       "    </tr>\n",
       "    <tr>\n",
       "      <th>SOCSTATUS_WORK_FL</th>\n",
       "      <td>0.078173</td>\n",
       "      <td>-0.454048</td>\n",
       "      <td>-0.104164</td>\n",
       "      <td>-0.040943</td>\n",
       "      <td>0.201100</td>\n",
       "      <td>1.000000</td>\n",
       "      <td>-0.800395</td>\n",
       "      <td>0.198962</td>\n",
       "      <td>0.036425</td>\n",
       "      <td>0.042756</td>\n",
       "    </tr>\n",
       "    <tr>\n",
       "      <th>SOCSTATUS_PENS_FL</th>\n",
       "      <td>-0.084105</td>\n",
       "      <td>0.561547</td>\n",
       "      <td>0.133761</td>\n",
       "      <td>0.059897</td>\n",
       "      <td>-0.248439</td>\n",
       "      <td>-0.800395</td>\n",
       "      <td>1.000000</td>\n",
       "      <td>-0.141243</td>\n",
       "      <td>-0.008661</td>\n",
       "      <td>-0.020764</td>\n",
       "    </tr>\n",
       "    <tr>\n",
       "      <th>PERSONAL_INCOME</th>\n",
       "      <td>0.092851</td>\n",
       "      <td>-0.090645</td>\n",
       "      <td>-0.239444</td>\n",
       "      <td>-0.053580</td>\n",
       "      <td>0.035058</td>\n",
       "      <td>0.198962</td>\n",
       "      <td>-0.141243</td>\n",
       "      <td>1.000000</td>\n",
       "      <td>-0.036433</td>\n",
       "      <td>-0.025379</td>\n",
       "    </tr>\n",
       "    <tr>\n",
       "      <th>LOAN_NUM_TOTAL</th>\n",
       "      <td>-0.032437</td>\n",
       "      <td>0.023883</td>\n",
       "      <td>0.008725</td>\n",
       "      <td>0.036906</td>\n",
       "      <td>0.055113</td>\n",
       "      <td>0.036425</td>\n",
       "      <td>-0.008661</td>\n",
       "      <td>-0.036433</td>\n",
       "      <td>1.000000</td>\n",
       "      <td>0.859516</td>\n",
       "    </tr>\n",
       "    <tr>\n",
       "      <th>LOAN_NUM_CLOSED</th>\n",
       "      <td>-0.061603</td>\n",
       "      <td>-0.000987</td>\n",
       "      <td>0.011885</td>\n",
       "      <td>0.006423</td>\n",
       "      <td>0.042516</td>\n",
       "      <td>0.042756</td>\n",
       "      <td>-0.020764</td>\n",
       "      <td>-0.025379</td>\n",
       "      <td>0.859516</td>\n",
       "      <td>1.000000</td>\n",
       "    </tr>\n",
       "  </tbody>\n",
       "</table>\n",
       "</div>"
      ],
      "text/plain": [
       "                     TARGET       AGE    GENDER  CHILD_TOTAL  DEPENDANTS  \\\n",
       "TARGET             1.000000 -0.104542 -0.030849     0.010917    0.051368   \n",
       "AGE               -0.104542  1.000000  0.145340     0.209761   -0.285184   \n",
       "GENDER            -0.030849  0.145340  1.000000     0.050423   -0.081410   \n",
       "CHILD_TOTAL        0.010917  0.209761  0.050423     1.000000    0.510148   \n",
       "DEPENDANTS         0.051368 -0.285184 -0.081410     0.510148    1.000000   \n",
       "SOCSTATUS_WORK_FL  0.078173 -0.454048 -0.104164    -0.040943    0.201100   \n",
       "SOCSTATUS_PENS_FL -0.084105  0.561547  0.133761     0.059897   -0.248439   \n",
       "PERSONAL_INCOME    0.092851 -0.090645 -0.239444    -0.053580    0.035058   \n",
       "LOAN_NUM_TOTAL    -0.032437  0.023883  0.008725     0.036906    0.055113   \n",
       "LOAN_NUM_CLOSED   -0.061603 -0.000987  0.011885     0.006423    0.042516   \n",
       "\n",
       "                   SOCSTATUS_WORK_FL  SOCSTATUS_PENS_FL  PERSONAL_INCOME  \\\n",
       "TARGET                      0.078173          -0.084105         0.092851   \n",
       "AGE                        -0.454048           0.561547        -0.090645   \n",
       "GENDER                     -0.104164           0.133761        -0.239444   \n",
       "CHILD_TOTAL                -0.040943           0.059897        -0.053580   \n",
       "DEPENDANTS                  0.201100          -0.248439         0.035058   \n",
       "SOCSTATUS_WORK_FL           1.000000          -0.800395         0.198962   \n",
       "SOCSTATUS_PENS_FL          -0.800395           1.000000        -0.141243   \n",
       "PERSONAL_INCOME             0.198962          -0.141243         1.000000   \n",
       "LOAN_NUM_TOTAL              0.036425          -0.008661        -0.036433   \n",
       "LOAN_NUM_CLOSED             0.042756          -0.020764        -0.025379   \n",
       "\n",
       "                   LOAN_NUM_TOTAL  LOAN_NUM_CLOSED  \n",
       "TARGET                  -0.032437        -0.061603  \n",
       "AGE                      0.023883        -0.000987  \n",
       "GENDER                   0.008725         0.011885  \n",
       "CHILD_TOTAL              0.036906         0.006423  \n",
       "DEPENDANTS               0.055113         0.042516  \n",
       "SOCSTATUS_WORK_FL        0.036425         0.042756  \n",
       "SOCSTATUS_PENS_FL       -0.008661        -0.020764  \n",
       "PERSONAL_INCOME         -0.036433        -0.025379  \n",
       "LOAN_NUM_TOTAL           1.000000         0.859516  \n",
       "LOAN_NUM_CLOSED          0.859516         1.000000  "
      ]
     },
     "execution_count": 69,
     "metadata": {},
     "output_type": "execute_result"
    }
   ],
   "source": [
    "df_client_agg.iloc[:, 2:].corr()"
   ]
  },
  {
   "cell_type": "code",
   "execution_count": 26,
   "id": "b028cadd-9329-41e0-8931-05f3e64422ed",
   "metadata": {},
   "outputs": [
    {
     "data": {
      "text/plain": [
       "Index(['AGE', 'GENDER', 'CHILD_TOTAL', 'DEPENDANTS', 'SOCSTATUS_WORK_FL',\n",
       "       'SOCSTATUS_PENS_FL', 'LOAN_NUM_TOTAL', 'LOAN_NUM_CLOSED'],\n",
       "      dtype='object')"
      ]
     },
     "execution_count": 26,
     "metadata": {},
     "output_type": "execute_result"
    }
   ],
   "source": [
    "df_client_agg.columns[3:]"
   ]
  },
  {
   "cell_type": "code",
   "execution_count": 28,
   "id": "512a9b37-d167-4afd-a38d-571c0db4febf",
   "metadata": {},
   "outputs": [
    {
     "data": {
      "text/html": [
       "<div>\n",
       "<style scoped>\n",
       "    .dataframe tbody tr th:only-of-type {\n",
       "        vertical-align: middle;\n",
       "    }\n",
       "\n",
       "    .dataframe tbody tr th {\n",
       "        vertical-align: top;\n",
       "    }\n",
       "\n",
       "    .dataframe thead th {\n",
       "        text-align: right;\n",
       "    }\n",
       "</style>\n",
       "<table border=\"1\" class=\"dataframe\">\n",
       "  <thead>\n",
       "    <tr style=\"text-align: right;\">\n",
       "      <th></th>\n",
       "      <th>TARGET</th>\n",
       "      <th>AGE</th>\n",
       "      <th>GENDER</th>\n",
       "      <th>CHILD_TOTAL</th>\n",
       "      <th>DEPENDANTS</th>\n",
       "      <th>SOCSTATUS_WORK_FL</th>\n",
       "      <th>SOCSTATUS_PENS_FL</th>\n",
       "      <th>LOAN_NUM_TOTAL</th>\n",
       "      <th>LOAN_NUM_CLOSED</th>\n",
       "    </tr>\n",
       "  </thead>\n",
       "  <tbody>\n",
       "    <tr>\n",
       "      <th>count</th>\n",
       "      <td>15223.000000</td>\n",
       "      <td>15223.000000</td>\n",
       "      <td>15223.000000</td>\n",
       "      <td>15223.000000</td>\n",
       "      <td>15223.000000</td>\n",
       "      <td>15223.000000</td>\n",
       "      <td>15223.000000</td>\n",
       "      <td>15223.000000</td>\n",
       "      <td>15223.000000</td>\n",
       "    </tr>\n",
       "    <tr>\n",
       "      <th>mean</th>\n",
       "      <td>0.119030</td>\n",
       "      <td>40.406096</td>\n",
       "      <td>0.654536</td>\n",
       "      <td>1.099389</td>\n",
       "      <td>0.645208</td>\n",
       "      <td>0.909610</td>\n",
       "      <td>0.134468</td>\n",
       "      <td>1.387769</td>\n",
       "      <td>0.751889</td>\n",
       "    </tr>\n",
       "    <tr>\n",
       "      <th>std</th>\n",
       "      <td>0.323835</td>\n",
       "      <td>11.601068</td>\n",
       "      <td>0.475535</td>\n",
       "      <td>0.995411</td>\n",
       "      <td>0.812252</td>\n",
       "      <td>0.286748</td>\n",
       "      <td>0.341165</td>\n",
       "      <td>0.793566</td>\n",
       "      <td>0.988499</td>\n",
       "    </tr>\n",
       "    <tr>\n",
       "      <th>min</th>\n",
       "      <td>0.000000</td>\n",
       "      <td>21.000000</td>\n",
       "      <td>0.000000</td>\n",
       "      <td>0.000000</td>\n",
       "      <td>0.000000</td>\n",
       "      <td>0.000000</td>\n",
       "      <td>0.000000</td>\n",
       "      <td>1.000000</td>\n",
       "      <td>0.000000</td>\n",
       "    </tr>\n",
       "    <tr>\n",
       "      <th>25%</th>\n",
       "      <td>0.000000</td>\n",
       "      <td>30.000000</td>\n",
       "      <td>0.000000</td>\n",
       "      <td>0.000000</td>\n",
       "      <td>0.000000</td>\n",
       "      <td>1.000000</td>\n",
       "      <td>0.000000</td>\n",
       "      <td>1.000000</td>\n",
       "      <td>0.000000</td>\n",
       "    </tr>\n",
       "    <tr>\n",
       "      <th>50%</th>\n",
       "      <td>0.000000</td>\n",
       "      <td>39.000000</td>\n",
       "      <td>1.000000</td>\n",
       "      <td>1.000000</td>\n",
       "      <td>0.000000</td>\n",
       "      <td>1.000000</td>\n",
       "      <td>0.000000</td>\n",
       "      <td>1.000000</td>\n",
       "      <td>0.000000</td>\n",
       "    </tr>\n",
       "    <tr>\n",
       "      <th>75%</th>\n",
       "      <td>0.000000</td>\n",
       "      <td>50.000000</td>\n",
       "      <td>1.000000</td>\n",
       "      <td>2.000000</td>\n",
       "      <td>1.000000</td>\n",
       "      <td>1.000000</td>\n",
       "      <td>0.000000</td>\n",
       "      <td>2.000000</td>\n",
       "      <td>1.000000</td>\n",
       "    </tr>\n",
       "    <tr>\n",
       "      <th>max</th>\n",
       "      <td>1.000000</td>\n",
       "      <td>67.000000</td>\n",
       "      <td>1.000000</td>\n",
       "      <td>10.000000</td>\n",
       "      <td>7.000000</td>\n",
       "      <td>1.000000</td>\n",
       "      <td>1.000000</td>\n",
       "      <td>11.000000</td>\n",
       "      <td>11.000000</td>\n",
       "    </tr>\n",
       "  </tbody>\n",
       "</table>\n",
       "</div>"
      ],
      "text/plain": [
       "             TARGET           AGE        GENDER   CHILD_TOTAL    DEPENDANTS  \\\n",
       "count  15223.000000  15223.000000  15223.000000  15223.000000  15223.000000   \n",
       "mean       0.119030     40.406096      0.654536      1.099389      0.645208   \n",
       "std        0.323835     11.601068      0.475535      0.995411      0.812252   \n",
       "min        0.000000     21.000000      0.000000      0.000000      0.000000   \n",
       "25%        0.000000     30.000000      0.000000      0.000000      0.000000   \n",
       "50%        0.000000     39.000000      1.000000      1.000000      0.000000   \n",
       "75%        0.000000     50.000000      1.000000      2.000000      1.000000   \n",
       "max        1.000000     67.000000      1.000000     10.000000      7.000000   \n",
       "\n",
       "       SOCSTATUS_WORK_FL  SOCSTATUS_PENS_FL  LOAN_NUM_TOTAL  LOAN_NUM_CLOSED  \n",
       "count       15223.000000       15223.000000    15223.000000     15223.000000  \n",
       "mean            0.909610           0.134468        1.387769         0.751889  \n",
       "std             0.286748           0.341165        0.793566         0.988499  \n",
       "min             0.000000           0.000000        1.000000         0.000000  \n",
       "25%             1.000000           0.000000        1.000000         0.000000  \n",
       "50%             1.000000           0.000000        1.000000         0.000000  \n",
       "75%             1.000000           0.000000        2.000000         1.000000  \n",
       "max             1.000000           1.000000       11.000000        11.000000  "
      ]
     },
     "execution_count": 28,
     "metadata": {},
     "output_type": "execute_result"
    }
   ],
   "source": [
    "df_client_agg.iloc[:, 2:].describe()"
   ]
  }
 ],
 "metadata": {
  "kernelspec": {
   "display_name": "Python 3 (ipykernel)",
   "language": "python",
   "name": "python3"
  },
  "language_info": {
   "codemirror_mode": {
    "name": "ipython",
    "version": 3
   },
   "file_extension": ".py",
   "mimetype": "text/x-python",
   "name": "python",
   "nbconvert_exporter": "python",
   "pygments_lexer": "ipython3",
   "version": "3.9.6"
  }
 },
 "nbformat": 4,
 "nbformat_minor": 5
}
